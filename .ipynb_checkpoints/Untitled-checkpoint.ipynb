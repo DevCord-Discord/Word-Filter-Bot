{
 "cells": [
  {
   "cell_type": "code",
   "execution_count": 1,
   "id": "southwest-operations",
   "metadata": {},
   "outputs": [],
   "source": [
    "import numpy as np \n",
    "import pandas as pd \n",
    "from matplotlib import pyplot as plt\n",
    "import os"
   ]
  },
  {
   "cell_type": "code",
   "execution_count": 5,
   "id": "extra-adjustment",
   "metadata": {},
   "outputs": [],
   "source": [
    "os.listdir('Dataset')\n",
    "dat = pd.read_csv('Dataset/bad-words.csv')"
   ]
  },
  {
   "cell_type": "code",
   "execution_count": 6,
   "id": "bound-remark",
   "metadata": {},
   "outputs": [
    {
     "data": {
      "text/html": [
       "<div>\n",
       "<style scoped>\n",
       "    .dataframe tbody tr th:only-of-type {\n",
       "        vertical-align: middle;\n",
       "    }\n",
       "\n",
       "    .dataframe tbody tr th {\n",
       "        vertical-align: top;\n",
       "    }\n",
       "\n",
       "    .dataframe thead th {\n",
       "        text-align: right;\n",
       "    }\n",
       "</style>\n",
       "<table border=\"1\" class=\"dataframe\">\n",
       "  <thead>\n",
       "    <tr style=\"text-align: right;\">\n",
       "      <th></th>\n",
       "      <th>jigaboo</th>\n",
       "    </tr>\n",
       "  </thead>\n",
       "  <tbody>\n",
       "    <tr>\n",
       "      <th>0</th>\n",
       "      <td>mound of venus</td>\n",
       "    </tr>\n",
       "    <tr>\n",
       "      <th>1</th>\n",
       "      <td>asslover</td>\n",
       "    </tr>\n",
       "    <tr>\n",
       "      <th>2</th>\n",
       "      <td>s&amp;m</td>\n",
       "    </tr>\n",
       "    <tr>\n",
       "      <th>3</th>\n",
       "      <td>queaf</td>\n",
       "    </tr>\n",
       "    <tr>\n",
       "      <th>4</th>\n",
       "      <td>whitetrash</td>\n",
       "    </tr>\n",
       "    <tr>\n",
       "      <th>...</th>\n",
       "      <td>...</td>\n",
       "    </tr>\n",
       "    <tr>\n",
       "      <th>1611</th>\n",
       "      <td>cocky</td>\n",
       "    </tr>\n",
       "    <tr>\n",
       "      <th>1612</th>\n",
       "      <td>transsexual</td>\n",
       "    </tr>\n",
       "    <tr>\n",
       "      <th>1613</th>\n",
       "      <td>unfuckable</td>\n",
       "    </tr>\n",
       "    <tr>\n",
       "      <th>1614</th>\n",
       "      <td>bestiality</td>\n",
       "    </tr>\n",
       "    <tr>\n",
       "      <th>1615</th>\n",
       "      <td>cocklicker</td>\n",
       "    </tr>\n",
       "  </tbody>\n",
       "</table>\n",
       "<p>1616 rows × 1 columns</p>\n",
       "</div>"
      ],
      "text/plain": [
       "             jigaboo\n",
       "0     mound of venus\n",
       "1           asslover\n",
       "2                s&m\n",
       "3              queaf\n",
       "4         whitetrash\n",
       "...              ...\n",
       "1611           cocky\n",
       "1612     transsexual\n",
       "1613      unfuckable\n",
       "1614      bestiality\n",
       "1615      cocklicker\n",
       "\n",
       "[1616 rows x 1 columns]"
      ]
     },
     "execution_count": 6,
     "metadata": {},
     "output_type": "execute_result"
    }
   ],
   "source": [
    "def augment(df):\n",
    "    "
   ]
  },
  {
   "cell_type": "code",
   "execution_count": 7,
   "id": "assured-glory",
   "metadata": {},
   "outputs": [
    {
     "ename": "SyntaxError",
     "evalue": "invalid syntax (<ipython-input-7-650f54939537>, line 24)",
     "output_type": "error",
     "traceback": [
      "\u001b[1;36m  File \u001b[1;32m\"<ipython-input-7-650f54939537>\"\u001b[1;36m, line \u001b[1;32m24\u001b[0m\n\u001b[1;33m    'X': ['%', '*', '><', '}{', ')(', 'Ж'],\u001b[0m\n\u001b[1;37m       ^\u001b[0m\n\u001b[1;31mSyntaxError\u001b[0m\u001b[1;31m:\u001b[0m invalid syntax\n"
     ]
    }
   ],
   "source": [
    "leet_dict = {'A': ['4', '@', '/\\\\', 'Д', 'а'],\n",
    "             'B': ['8','|3', '13', '|}', '|8', '18', '6', 'ß', 'в', 'ь'],\n",
    "             'C': ['<', '{', '[', 'C', '©', '¢', 'с'],\n",
    "             'D': ['|)', '|}', '|]', '|>'],\n",
    "             'E': ['3', '£', '₤', '€','е'],\n",
    "             'F': ['7', '|=', 'ph', '|#', '|\"', 'ƒ'],\n",
    "             'G': ['[', '-', '[+', '6', 'C-,'],\n",
    "             'H': ['#', '4', '|-|', '[-]', '{-}', '}-{', '}{', '|=|', '[=]', '{=}', '/-/', '(-)', ')-(', ':-:', 'I+I', 'н'],\n",
    "             'I': ['1', '|', '!', '9'],\n",
    "             'J': ['_|', '_/', '_7', '9', '_)', '_]', '_}'],\n",
    "             'K': ['|<', '1<', 'l<', '|{', 'l{'],\n",
    "             'L': ['|_', '|', '1', ']['],\n",
    "             'M': ['44', '|\\/|', '^^', '/\\/\\\\', '/X\\\\', '[]\\/][', '[]V[]', '][\\\\//][', '(V)','//.', '.\\\\', 'N\\\\', 'м'],\n",
    "             'N': ['|\\|', '/\\/', '/V', '][\\\\][', 'И', 'и', 'п'],\n",
    "             'O': ['0', '()', '[]', '{}', '<>', 'Ø', 'oh', 'Θ', 'о', 'ө'],\n",
    "             'P': ['|o', '|O', '|>', '|*', '|°', '|D', '/o', '[]D', '|7', 'р'],\n",
    "             'Q': ['O_', '9', '(,)', '0','kw'],\n",
    "             'R': ['|2', '12', '.-', '|^', 'l2', 'Я', '®'],\n",
    "             'S': ['5', '$', '§'],\n",
    "             'T': ['7', '+', '7`', '`|`' , '~|~' , '-|-', '\\'][\\'', 'т'],\n",
    "             'U': ['|_|', '\\\\_\\\\', '/_/', '\\\\_/', '(_)', '[_]', '{_}'],\n",
    "             'V': ['\\/'],\n",
    "             'W': ['\\/\\/', '(/\\\\)', '\\\\^/', '|/\\\\|', '\\\\X/', 'VV', '\\_|_/', '\\\\//\\\\//', 'Ш', '2u', '\\V/'],\n",
    "             'X': ['%', '*', '><', '}{', ')(', 'Ж'],\n",
    "             'Y': ['`/', '¥', '\\\\|/', 'Ч', 'ү', 'у'],\n",
    "             'Z': ['2', '5', '7_', '>_','(/)','}']}"
   ]
  },
  {
   "cell_type": "code",
   "execution_count": null,
   "id": "thorough-secretary",
   "metadata": {},
   "outputs": [],
   "source": []
  }
 ],
 "metadata": {
  "kernelspec": {
   "display_name": "Python 3",
   "language": "python",
   "name": "python3"
  },
  "language_info": {
   "codemirror_mode": {
    "name": "ipython",
    "version": 3
   },
   "file_extension": ".py",
   "mimetype": "text/x-python",
   "name": "python",
   "nbconvert_exporter": "python",
   "pygments_lexer": "ipython3",
   "version": "3.8.5"
  }
 },
 "nbformat": 4,
 "nbformat_minor": 5
}
