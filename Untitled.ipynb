{
 "cells": [
  {
   "cell_type": "code",
   "execution_count": 12,
   "id": "moving-maple",
   "metadata": {},
   "outputs": [],
   "source": [
    "import numpy as np \n",
    "import pandas as pd \n",
    "from matplotlib import pyplot as plt\n",
    "import random\n",
    "import string\n",
    "import os"
   ]
  },
  {
   "cell_type": "code",
   "execution_count": 2,
   "id": "biological-psychology",
   "metadata": {},
   "outputs": [],
   "source": [
    "os.listdir('Dataset')\n",
    "dat = pd.read_csv('Dataset/bad-words.csv')"
   ]
  },
  {
   "cell_type": "code",
   "execution_count": 158,
   "id": "realistic-support",
   "metadata": {},
   "outputs": [],
   "source": [
    "def augment(w_list, aug_dict, min_letter_change = 6, max_letter_change = 10):\n",
    "            \n",
    "        #Convert random words to leet\n",
    "        n_words = []\n",
    "        \n",
    "        for w in w_list:\n",
    "            k = random.randint(min_letter_change, max_letter_change)\n",
    "            \n",
    "            l = random.sample(list(leet_dict.keys()), k = int(k))\n",
    "            #print(l)\n",
    "            lr = [random.choice(aug_dict[x]) for x in l]\n",
    "            #print(lr)\n",
    "            \n",
    "            s = w\n",
    "            for x in zip(l, lr):\n",
    "                s = s.replace(x[0].lower(), x[1])\n",
    "            \n",
    "            n_words.append(s)\n",
    "        \n",
    "        return n_words"
   ]
  },
  {
   "cell_type": "code",
   "execution_count": 202,
   "id": "acute-relaxation",
   "metadata": {},
   "outputs": [],
   "source": [
    "def wordsToLists(w_list, main_dict):\n",
    "    \n",
    "    I_n = np.identity(len(main_dict))\n",
    "    \n",
    "    word_o_h_l = []\n",
    "    \n",
    "    for w in w_list:\n",
    "        \n",
    "        word_l = list(w)\n",
    "        word_o_h = []\n",
    "        \n",
    "        for letter in word_l:\n",
    "            letter_o_h = I_n[main_dict.index(letter)]\n",
    "            word_o_h.append(letter_o_h )\n",
    "        \n",
    "        word_o_h_l.append(word_o_h)\n",
    "        \n",
    "    return word_o_h_l"
   ]
  },
  {
   "cell_type": "code",
   "execution_count": 203,
   "id": "printable-yahoo",
   "metadata": {},
   "outputs": [],
   "source": [
    "leet_dict = {'A': ['4', '@', '/\\\\', 'Д', 'а'],\n",
    "             'B': ['8','|3', '13', '|}', '|8', '18', '6', 'ß', 'в', 'ь'],\n",
    "             'C': ['<', '{', '[', 'C', '©', '¢', 'с'],\n",
    "             'D': ['|)', '|}', '|]', '|>'],\n",
    "             'E': ['3', '£', '₤', '€','е'],\n",
    "             'F': ['7', '|=', 'ph', '|#', '|\"', 'ƒ'],\n",
    "             'G': ['[', '-', '[+', '6', 'C-'],\n",
    "             'H': ['#', '4', '|-|', '[-]', '{-}', '}-{', '}{', '|=|', '[=]', '{=}', '/-/', '(-)', ')-(', ':-:', 'I+I', 'н'],\n",
    "             'I': ['1', '|', '!', '9'],\n",
    "             'J': ['_|', '_/', '_7', '9', '_)', '_]', '_}'],\n",
    "             'K': ['|<', '1<', 'l<', '|{', 'l{'],\n",
    "             'L': ['|_', '|', '1', ']['],\n",
    "             'M': ['44', '|\\/|', '^^', '/\\/\\\\', '/X\\\\', '[]\\/][', '[]V[]', '][\\\\//][', '(V)','//.', '.\\\\', 'N\\\\', 'м'],\n",
    "             'N': ['|\\|', '/\\/', '/V', '][\\\\][', 'И', 'и', 'п'],\n",
    "             'O': ['0', '()', '[]', '{}', '<>', 'Ø', 'oh', 'Θ', 'о', 'ө'],\n",
    "             'P': ['|o', '|O', '|>', '|*', '|°', '|D', '/o', '[]D', '|7', 'р'],\n",
    "             'Q': ['O_', '9', '(,)', '0','kw'],\n",
    "             'R': ['|2', '12', '.-', '|^', 'l2', 'Я', '®'],\n",
    "             'S': ['5', '$', '§'],\n",
    "             'T': ['7', '+', '7`', '`|`' , '~|~' , '-|-', '\\'][\\'', 'т'],\n",
    "             'U': ['|_|', '\\\\_\\\\', '/_/', '\\\\_/', '(_)', '[_]', '{_}'],\n",
    "             'V': ['\\/'],\n",
    "             'W': ['\\/\\/', '(/\\\\)', '\\\\^/', '|/\\\\|', '\\\\X/', 'VV', '\\_|_/', '\\\\//\\\\//', 'Ш', '2u', '\\V/'],\n",
    "             'X': ['%', '*', '><', '}{', ')(', 'Ж'],\n",
    "             'Y': ['`/', '¥', '\\\\|/', 'Ч', 'у'],\n",
    "             'Z': ['2', '5', '7_', '>_','(/)','}']}"
   ]
  },
  {
   "cell_type": "code",
   "execution_count": 204,
   "id": "rural-valve",
   "metadata": {},
   "outputs": [
    {
     "data": {
      "text/plain": [
       "['\\\\/\\\\/',\n",
       " '(/\\\\)',\n",
       " '\\\\^/',\n",
       " '|/\\\\|',\n",
       " '\\\\X/',\n",
       " 'VV',\n",
       " '\\\\_|_/',\n",
       " '\\\\//\\\\//',\n",
       " 'Ш',\n",
       " '2u',\n",
       " '\\\\V/']"
      ]
     },
     "execution_count": 204,
     "metadata": {},
     "output_type": "execute_result"
    }
   ],
   "source": [
    "leet_dict['W']"
   ]
  },
  {
   "cell_type": "code",
   "execution_count": 205,
   "id": "nasty-murder",
   "metadata": {},
   "outputs": [],
   "source": [
    "a = 'asdasd'"
   ]
  },
  {
   "cell_type": "code",
   "execution_count": 206,
   "id": "needed-player",
   "metadata": {},
   "outputs": [
    {
     "data": {
      "text/plain": [
       "'a5da5d'"
      ]
     },
     "execution_count": 206,
     "metadata": {},
     "output_type": "execute_result"
    }
   ],
   "source": [
    "a.replace('s', '5')"
   ]
  },
  {
   "cell_type": "code",
   "execution_count": 207,
   "id": "worth-azerbaijan",
   "metadata": {},
   "outputs": [
    {
     "name": "stdout",
     "output_type": "stream",
     "text": [
      "['F', 'P', 'A', 'Q', 'J', 'D', 'C', 'U', 'W', 'X', 'O', 'Y']\n",
      "['ph', '|D', 'а', '9', '_}', '|)', '©', '/_/', 'Ш', '*', 'о', 'у']\n"
     ]
    }
   ],
   "source": [
    "l = random.sample(list(leet_dict.keys()), k = 12)\n",
    "print(l)\n",
    "lr = [random.choice(leet_dict[x]) for x in l]\n",
    "print(lr)"
   ]
  },
  {
   "cell_type": "code",
   "execution_count": 208,
   "id": "joint-plenty",
   "metadata": {},
   "outputs": [
    {
     "data": {
      "text/plain": [
       "'nigger'"
      ]
     },
     "execution_count": 208,
     "metadata": {},
     "output_type": "execute_result"
    }
   ],
   "source": [
    "s = 'nigger'\n",
    "#s = s.upper()\n",
    "for x in zip(l, lr):\n",
    "    s = s.replace(x[0].lower(), x[1])\n",
    "s"
   ]
  },
  {
   "cell_type": "code",
   "execution_count": 209,
   "id": "alert-microphone",
   "metadata": {},
   "outputs": [
    {
     "data": {
      "text/plain": [
       "['\\t',\n",
       " '\\n',\n",
       " '\\x0b',\n",
       " '\\x0c',\n",
       " '\\r',\n",
       " ' ',\n",
       " '!',\n",
       " '\"',\n",
       " '#',\n",
       " '$',\n",
       " '%',\n",
       " '&',\n",
       " \"'\",\n",
       " '(',\n",
       " ')',\n",
       " '*',\n",
       " '+',\n",
       " ',',\n",
       " '-',\n",
       " '.',\n",
       " '/',\n",
       " '0',\n",
       " '1',\n",
       " '2',\n",
       " '3',\n",
       " '4',\n",
       " '5',\n",
       " '6',\n",
       " '7',\n",
       " '8',\n",
       " '9',\n",
       " ':',\n",
       " ';',\n",
       " '<',\n",
       " '=',\n",
       " '>',\n",
       " '?',\n",
       " '@',\n",
       " 'A',\n",
       " 'B',\n",
       " 'C',\n",
       " 'D',\n",
       " 'E',\n",
       " 'F',\n",
       " 'G',\n",
       " 'H',\n",
       " 'I',\n",
       " 'J',\n",
       " 'K',\n",
       " 'L',\n",
       " 'M',\n",
       " 'N',\n",
       " 'O',\n",
       " 'P',\n",
       " 'Q',\n",
       " 'R',\n",
       " 'S',\n",
       " 'T',\n",
       " 'U',\n",
       " 'V',\n",
       " 'W',\n",
       " 'X',\n",
       " 'Y',\n",
       " 'Z',\n",
       " '[',\n",
       " '\\\\',\n",
       " ']',\n",
       " '^',\n",
       " '_',\n",
       " '`',\n",
       " 'a',\n",
       " 'b',\n",
       " 'c',\n",
       " 'd',\n",
       " 'e',\n",
       " 'f',\n",
       " 'g',\n",
       " 'h',\n",
       " 'i',\n",
       " 'j',\n",
       " 'k',\n",
       " 'l',\n",
       " 'm',\n",
       " 'n',\n",
       " 'o',\n",
       " 'p',\n",
       " 'q',\n",
       " 'r',\n",
       " 's',\n",
       " 't',\n",
       " 'u',\n",
       " 'v',\n",
       " 'w',\n",
       " 'x',\n",
       " 'y',\n",
       " 'z',\n",
       " '{',\n",
       " '|',\n",
       " '}',\n",
       " '~',\n",
       " '¢',\n",
       " '£',\n",
       " '¥',\n",
       " '§',\n",
       " '©',\n",
       " '®',\n",
       " '°',\n",
       " 'Ø',\n",
       " 'ß',\n",
       " 'ƒ',\n",
       " 'Θ',\n",
       " 'Д',\n",
       " 'Ж',\n",
       " 'И',\n",
       " 'Ч',\n",
       " 'Ш',\n",
       " 'Я',\n",
       " 'а',\n",
       " 'в',\n",
       " 'е',\n",
       " 'и',\n",
       " 'м',\n",
       " 'н',\n",
       " 'о',\n",
       " 'п',\n",
       " 'р',\n",
       " 'с',\n",
       " 'т',\n",
       " 'у',\n",
       " 'ь',\n",
       " 'ө',\n",
       " '₤',\n",
       " '€']"
      ]
     },
     "execution_count": 209,
     "metadata": {},
     "output_type": "execute_result"
    }
   ],
   "source": [
    "l_dict = np.unique(list(string.printable + str(list(leet_dict.values())))).tolist()\n",
    "l_dict"
   ]
  },
  {
   "cell_type": "code",
   "execution_count": 210,
   "id": "freelance-ceremony",
   "metadata": {},
   "outputs": [],
   "source": [
    "test_l = ['gay', 'nigger', 'faggot', 'chutiya', 'gandu']"
   ]
  },
  {
   "cell_type": "code",
   "execution_count": 211,
   "id": "spectacular-welsh",
   "metadata": {},
   "outputs": [
    {
     "data": {
      "text/plain": [
       "['g/\\\\у', 'niC-C-er', 'fagg()t', '[{=}uтiya', 'g@nd\\\\_/']"
      ]
     },
     "execution_count": 211,
     "metadata": {},
     "output_type": "execute_result"
    }
   ],
   "source": [
    "augment(test_l, leet_dict)"
   ]
  },
  {
   "cell_type": "code",
   "execution_count": 212,
   "id": "variable-rehabilitation",
   "metadata": {},
   "outputs": [
    {
     "data": {
      "text/plain": [
       "43"
      ]
     },
     "execution_count": 212,
     "metadata": {},
     "output_type": "execute_result"
    }
   ],
   "source": [
    "l_dict.index('F')"
   ]
  },
  {
   "cell_type": "code",
   "execution_count": 221,
   "id": "removed-ability",
   "metadata": {},
   "outputs": [
    {
     "data": {
      "text/plain": [
       "3"
      ]
     },
     "execution_count": 221,
     "metadata": {},
     "output_type": "execute_result"
    }
   ],
   "source": [
    "len(wordsToLists(test_l, l_dict)[0])"
   ]
  },
  {
   "cell_type": "code",
   "execution_count": 224,
   "id": "occupational-canon",
   "metadata": {},
   "outputs": [
    {
     "data": {
      "text/plain": [
       "'{\"A\": [\"4\", \"@\", \"/\\\\\\\\\", \"\\\\u0414\", \"\\\\u0430\"], \"B\": [\"8\", \"|3\", \"13\", \"|}\", \"|8\", \"18\", \"6\", \"\\\\u00df\", \"\\\\u0432\", \"\\\\u044c\"], \"C\": [\"<\", \"{\", \"[\", \"C\", \"\\\\u00a9\", \"\\\\u00a2\", \"\\\\u0441\"], \"D\": [\"|)\", \"|}\", \"|]\", \"|>\"], \"E\": [\"3\", \"\\\\u00a3\", \"\\\\u20a4\", \"\\\\u20ac\", \"\\\\u0435\"], \"F\": [\"7\", \"|=\", \"ph\", \"|#\", \"|\\\\\"\", \"\\\\u0192\"], \"G\": [\"[\", \"-\", \"[+\", \"6\", \"C-\"], \"H\": [\"#\", \"4\", \"|-|\", \"[-]\", \"{-}\", \"}-{\", \"}{\", \"|=|\", \"[=]\", \"{=}\", \"/-/\", \"(-)\", \")-(\", \":-:\", \"I+I\", \"\\\\u043d\"], \"I\": [\"1\", \"|\", \"!\", \"9\"], \"J\": [\"_|\", \"_/\", \"_7\", \"9\", \"_)\", \"_]\", \"_}\"], \"K\": [\"|<\", \"1<\", \"l<\", \"|{\", \"l{\"], \"L\": [\"|_\", \"|\", \"1\", \"][\"], \"M\": [\"44\", \"|\\\\\\\\/|\", \"^^\", \"/\\\\\\\\/\\\\\\\\\", \"/X\\\\\\\\\", \"[]\\\\\\\\/][\", \"[]V[]\", \"][\\\\\\\\//][\", \"(V)\", \"//.\", \".\\\\\\\\\", \"N\\\\\\\\\", \"\\\\u043c\"], \"N\": [\"|\\\\\\\\|\", \"/\\\\\\\\/\", \"/V\", \"][\\\\\\\\][\", \"\\\\u0418\", \"\\\\u0438\", \"\\\\u043f\"], \"O\": [\"0\", \"()\", \"[]\", \"{}\", \"<>\", \"\\\\u00d8\", \"oh\", \"\\\\u0398\", \"\\\\u043e\", \"\\\\u04e9\"], \"P\": [\"|o\", \"|O\", \"|>\", \"|*\", \"|\\\\u00b0\", \"|D\", \"/o\", \"[]D\", \"|7\", \"\\\\u0440\"], \"Q\": [\"O_\", \"9\", \"(,)\", \"0\", \"kw\"], \"R\": [\"|2\", \"12\", \".-\", \"|^\", \"l2\", \"\\\\u042f\", \"\\\\u00ae\"], \"S\": [\"5\", \"$\", \"\\\\u00a7\"], \"T\": [\"7\", \"+\", \"7`\", \"`|`\", \"~|~\", \"-|-\", \"\\'][\\'\", \"\\\\u0442\"], \"U\": [\"|_|\", \"\\\\\\\\_\\\\\\\\\", \"/_/\", \"\\\\\\\\_/\", \"(_)\", \"[_]\", \"{_}\"], \"V\": [\"\\\\\\\\/\"], \"W\": [\"\\\\\\\\/\\\\\\\\/\", \"(/\\\\\\\\)\", \"\\\\\\\\^/\", \"|/\\\\\\\\|\", \"\\\\\\\\X/\", \"VV\", \"\\\\\\\\_|_/\", \"\\\\\\\\//\\\\\\\\//\", \"\\\\u0428\", \"2u\", \"\\\\\\\\V/\"], \"X\": [\"%\", \"*\", \"><\", \"}{\", \")(\", \"\\\\u0416\"], \"Y\": [\"`/\", \"\\\\u00a5\", \"\\\\\\\\|/\", \"\\\\u0427\", \"\\\\u0443\"], \"Z\": [\"2\", \"5\", \"7_\", \">_\", \"(/)\", \"}\"]}'"
      ]
     },
     "execution_count": 224,
     "metadata": {},
     "output_type": "execute_result"
    }
   ],
   "source": [
    "import json \n",
    "json.dumps(leet_dict)"
   ]
  },
  {
   "cell_type": "code",
   "execution_count": 227,
   "id": "competitive-respect",
   "metadata": {},
   "outputs": [],
   "source": [
    "with open(\"Dataset/leet_dictionary.json\", \"w\") as outfile:  \n",
    "    json.dump(leet_dict, outfile) "
   ]
  },
  {
   "cell_type": "code",
   "execution_count": null,
   "id": "baking-adobe",
   "metadata": {},
   "outputs": [],
   "source": []
  }
 ],
 "metadata": {
  "kernelspec": {
   "display_name": "Python 3",
   "language": "python",
   "name": "python3"
  },
  "language_info": {
   "codemirror_mode": {
    "name": "ipython",
    "version": 3
   },
   "file_extension": ".py",
   "mimetype": "text/x-python",
   "name": "python",
   "nbconvert_exporter": "python",
   "pygments_lexer": "ipython3",
   "version": "3.8.5"
  }
 },
 "nbformat": 4,
 "nbformat_minor": 5
}
